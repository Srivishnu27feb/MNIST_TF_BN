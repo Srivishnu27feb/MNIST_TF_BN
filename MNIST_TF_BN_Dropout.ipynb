{
  "nbformat": 4,
  "nbformat_minor": 0,
  "metadata": {
    "colab": {
      "name": "MNIST_TF_BN_Dropout.ipynb",
      "provenance": [],
      "collapsed_sections": [],
      "mount_file_id": "1mJ7uCCj5zQyVFw7VhFa7CaoNuCTJ-bsp",
      "authorship_tag": "ABX9TyPIhkDKMvX90RmY5nF3PI7L",
      "include_colab_link": true
    },
    "kernelspec": {
      "name": "python3",
      "display_name": "Python 3"
    }
  },
  "cells": [
    {
      "cell_type": "markdown",
      "metadata": {
        "id": "view-in-github",
        "colab_type": "text"
      },
      "source": [
        "<a href=\"https://colab.research.google.com/github/Srivishnu27feb/MNIST_TF_BN/blob/master/MNIST_TF_BN_Dropout.ipynb\" target=\"_parent\"><img src=\"https://colab.research.google.com/assets/colab-badge.svg\" alt=\"Open In Colab\"/></a>"
      ]
    },
    {
      "cell_type": "code",
      "metadata": {
        "id": "QBHNRhnxETO8",
        "colab_type": "code",
        "colab": {
          "base_uri": "https://localhost:8080/",
          "height": 1000
        },
        "outputId": "aa020ead-8f78-4985-cb3a-7aea141592e5"
      },
      "source": [
        "!pip install tensorflow==1.2\n",
        "#!pip install -q git+https://github.com/tensorflow/examples.git\n",
        "from tensorflow.examples.tutorials.mnist import input_data\n",
        "import tensorflow as tf\n",
        "mnist = input_data.read_data_sets(\"MNIST_data/\", one_hot=True)"
      ],
      "execution_count": 1,
      "outputs": [
        {
          "output_type": "stream",
          "text": [
            "Collecting tensorflow==1.2\n",
            "\u001b[?25l  Downloading https://files.pythonhosted.org/packages/5e/55/7995cc1e9e60fa37ea90e6777d832e75026fde5c6109215d892aaff2e9b7/tensorflow-1.2.0-cp36-cp36m-manylinux1_x86_64.whl (35.0MB)\n",
            "\u001b[K     |████████████████████████████████| 35.0MB 116kB/s \n",
            "\u001b[?25hRequirement already satisfied: wheel>=0.26 in /usr/local/lib/python3.6/dist-packages (from tensorflow==1.2) (0.35.1)\n",
            "Requirement already satisfied: protobuf>=3.2.0 in /usr/local/lib/python3.6/dist-packages (from tensorflow==1.2) (3.12.4)\n",
            "Collecting bleach==1.5.0\n",
            "  Downloading https://files.pythonhosted.org/packages/33/70/86c5fec937ea4964184d4d6c4f0b9551564f821e1c3575907639036d9b90/bleach-1.5.0-py2.py3-none-any.whl\n",
            "Requirement already satisfied: werkzeug>=0.11.10 in /usr/local/lib/python3.6/dist-packages (from tensorflow==1.2) (1.0.1)\n",
            "Requirement already satisfied: six>=1.10.0 in /usr/local/lib/python3.6/dist-packages (from tensorflow==1.2) (1.15.0)\n",
            "Collecting html5lib==0.9999999\n",
            "\u001b[?25l  Downloading https://files.pythonhosted.org/packages/ae/ae/bcb60402c60932b32dfaf19bb53870b29eda2cd17551ba5639219fb5ebf9/html5lib-0.9999999.tar.gz (889kB)\n",
            "\u001b[K     |████████████████████████████████| 890kB 37.3MB/s \n",
            "\u001b[?25hCollecting backports.weakref==1.0rc1\n",
            "  Downloading https://files.pythonhosted.org/packages/6a/f7/ae34b6818b603e264f26fe7db2bd07850ce331ce2fde74b266d61f4a2d87/backports.weakref-1.0rc1-py3-none-any.whl\n",
            "Collecting markdown==2.2.0\n",
            "\u001b[?25l  Downloading https://files.pythonhosted.org/packages/ac/99/288a81a38526a42c98b5b9832c6e339ca8d5dd38b19a53abfac7c8037c7f/Markdown-2.2.0.tar.gz (236kB)\n",
            "\u001b[K     |████████████████████████████████| 245kB 43.9MB/s \n",
            "\u001b[?25hRequirement already satisfied: numpy>=1.11.0 in /usr/local/lib/python3.6/dist-packages (from tensorflow==1.2) (1.18.5)\n",
            "Requirement already satisfied: setuptools in /usr/local/lib/python3.6/dist-packages (from protobuf>=3.2.0->tensorflow==1.2) (49.6.0)\n",
            "Building wheels for collected packages: html5lib, markdown\n",
            "  Building wheel for html5lib (setup.py) ... \u001b[?25l\u001b[?25hdone\n",
            "  Created wheel for html5lib: filename=html5lib-0.9999999-cp36-none-any.whl size=107220 sha256=f6c1dc03662aef1df22f22d23cf0da103502426e6dfff2549a27dc9226299190\n",
            "  Stored in directory: /root/.cache/pip/wheels/50/ae/f9/d2b189788efcf61d1ee0e36045476735c838898eef1cad6e29\n",
            "  Building wheel for markdown (setup.py) ... \u001b[?25l\u001b[?25hdone\n",
            "  Created wheel for markdown: filename=Markdown-2.2.0-cp36-none-any.whl size=136283 sha256=b69ed635fdbab9fb6a67a418d5f1bbae0e4409a39a813d4c1e434686745de3bc\n",
            "  Stored in directory: /root/.cache/pip/wheels/b6/52/17/f0af18e3e0ec6fa60b361ffed15b4c3468f6f3bcdb87fbe079\n",
            "Successfully built html5lib markdown\n",
            "\u001b[31mERROR: tensorboard 2.3.0 has requirement markdown>=2.6.8, but you'll have markdown 2.2.0 which is incompatible.\u001b[0m\n",
            "Installing collected packages: html5lib, bleach, backports.weakref, markdown, tensorflow\n",
            "  Found existing installation: html5lib 1.0.1\n",
            "    Uninstalling html5lib-1.0.1:\n",
            "      Successfully uninstalled html5lib-1.0.1\n",
            "  Found existing installation: bleach 3.1.5\n",
            "    Uninstalling bleach-3.1.5:\n",
            "      Successfully uninstalled bleach-3.1.5\n",
            "  Found existing installation: Markdown 3.2.2\n",
            "    Uninstalling Markdown-3.2.2:\n",
            "      Successfully uninstalled Markdown-3.2.2\n",
            "  Found existing installation: tensorflow 2.3.0\n",
            "    Uninstalling tensorflow-2.3.0:\n",
            "      Successfully uninstalled tensorflow-2.3.0\n",
            "Successfully installed backports.weakref-1.0rc1 bleach-1.5.0 html5lib-0.9999999 markdown-2.2.0 tensorflow-1.2.0\n"
          ],
          "name": "stdout"
        },
        {
          "output_type": "stream",
          "text": [
            "/usr/local/lib/python3.6/dist-packages/tensorflow/python/framework/dtypes.py:458: FutureWarning: Passing (type, 1) or '1type' as a synonym of type is deprecated; in a future version of numpy, it will be understood as (type, (1,)) / '(1,)type'.\n",
            "  _np_qint8 = np.dtype([(\"qint8\", np.int8, 1)])\n",
            "/usr/local/lib/python3.6/dist-packages/tensorflow/python/framework/dtypes.py:459: FutureWarning: Passing (type, 1) or '1type' as a synonym of type is deprecated; in a future version of numpy, it will be understood as (type, (1,)) / '(1,)type'.\n",
            "  _np_quint8 = np.dtype([(\"quint8\", np.uint8, 1)])\n",
            "/usr/local/lib/python3.6/dist-packages/tensorflow/python/framework/dtypes.py:460: FutureWarning: Passing (type, 1) or '1type' as a synonym of type is deprecated; in a future version of numpy, it will be understood as (type, (1,)) / '(1,)type'.\n",
            "  _np_qint16 = np.dtype([(\"qint16\", np.int16, 1)])\n",
            "/usr/local/lib/python3.6/dist-packages/tensorflow/python/framework/dtypes.py:461: FutureWarning: Passing (type, 1) or '1type' as a synonym of type is deprecated; in a future version of numpy, it will be understood as (type, (1,)) / '(1,)type'.\n",
            "  _np_quint16 = np.dtype([(\"quint16\", np.uint16, 1)])\n",
            "/usr/local/lib/python3.6/dist-packages/tensorflow/python/framework/dtypes.py:462: FutureWarning: Passing (type, 1) or '1type' as a synonym of type is deprecated; in a future version of numpy, it will be understood as (type, (1,)) / '(1,)type'.\n",
            "  _np_qint32 = np.dtype([(\"qint32\", np.int32, 1)])\n",
            "/usr/local/lib/python3.6/dist-packages/tensorflow/python/framework/dtypes.py:465: FutureWarning: Passing (type, 1) or '1type' as a synonym of type is deprecated; in a future version of numpy, it will be understood as (type, (1,)) / '(1,)type'.\n",
            "  np_resource = np.dtype([(\"resource\", np.ubyte, 1)])\n"
          ],
          "name": "stderr"
        },
        {
          "output_type": "stream",
          "text": [
            "Successfully downloaded train-images-idx3-ubyte.gz 9912422 bytes.\n",
            "Extracting MNIST_data/train-images-idx3-ubyte.gz\n",
            "Successfully downloaded train-labels-idx1-ubyte.gz 28881 bytes.\n",
            "Extracting MNIST_data/train-labels-idx1-ubyte.gz\n",
            "Successfully downloaded t10k-images-idx3-ubyte.gz 1648877 bytes.\n",
            "Extracting MNIST_data/t10k-images-idx3-ubyte.gz\n",
            "Successfully downloaded t10k-labels-idx1-ubyte.gz 4542 bytes.\n",
            "Extracting MNIST_data/t10k-labels-idx1-ubyte.gz\n"
          ],
          "name": "stdout"
        }
      ]
    },
    {
      "cell_type": "code",
      "metadata": {
        "id": "fHpUfNvpHbbs",
        "colab_type": "code",
        "colab": {}
      },
      "source": [
        "# %matplotlib notebook\n",
        "import matplotlib.pyplot as plt\n",
        "import numpy as np\n",
        "import time\n",
        "# https://gist.github.com/greydanus/f6eee59eaf1d90fcb3b534a25362cea4\n",
        "# https://stackoverflow.com/a/14434334\n",
        "# this function is used to update the plots for each epoch and error\n",
        "def plt_dynamic(x, y, y_1, ax, ticks,title, colors=['b']):\n",
        "    ax.plot(x, y, 'b', label=\"Train Loss\")\n",
        "    ax.plot(x, y_1, 'r', label=\"Test Loss\")\n",
        "    if len(x)==1:\n",
        "        plt.legend()\n",
        "        plt.title(title)\n",
        "    plt.yticks(ticks)\n",
        "    fig.canvas.draw()"
      ],
      "execution_count": 2,
      "outputs": []
    },
    {
      "cell_type": "code",
      "metadata": {
        "id": "PIre2ZFfHjDx",
        "colab_type": "code",
        "colab": {}
      },
      "source": [
        "# initialize params\n",
        "# network params\n",
        "n_input = 784\n",
        "n_output = 10\n",
        "n_hidden_1 = 512\n",
        "n_hidden_2 = 128"
      ],
      "execution_count": 3,
      "outputs": []
    },
    {
      "cell_type": "code",
      "metadata": {
        "id": "o_Sd4BKyJeKI",
        "colab_type": "code",
        "colab": {}
      },
      "source": [
        "# placeholder for input and output layer\n",
        "x=tf.placeholder(tf.float32,[None,784])\n",
        "y_=tf.placeholder(tf.float32,[None,10])\n",
        "keep_prob = tf.placeholder(tf.float32) # dropout placeholder for testing\n",
        "keep_prob_input = tf.placeholder(tf.float32) # dropout placeholder for training"
      ],
      "execution_count": 4,
      "outputs": []
    },
    {
      "cell_type": "code",
      "metadata": {
        "id": "ntjMaDBuKhQJ",
        "colab_type": "code",
        "colab": {}
      },
      "source": [
        "# weight initialisation for sigmoid\n",
        "# If we sample weights from a normal distribution N(0,σ) we satisfy this condition with σ=√(2/(ni+ni+1). \n",
        "# h1 =>  σ=√(2/(fan_in+fan_out+1) = 0.039  => N(0,σ) = N(0,0.039)\n",
        "# h2 =>  σ=√(2/(fan_in+fan_out+1) = 0.055  => N(0,σ) = N(0,0.055)\n",
        "# out =>  σ=√(2/(fan_in+fan_out+1) = 0.120  => N(0,σ) = N(0,0.120)\n",
        "# SGD: Xavier/Glorot Normal initialization.\n",
        "\n",
        "weights_sgd = {\n",
        "    'h1' : tf.Variable(tf.random_normal([n_input,n_hidden_1],stddev=0.039,mean=0)), #784x512 # sqrt(2/(784+512)) = 0.039\n",
        "    'h2' : tf.Variable(tf.random_normal([n_hidden_1,n_hidden_2],stddev=0.055,mean=0)), #512x128 # sqrt(2/(512+128)) = 0.055\n",
        "    'out' : tf.Variable(tf.random_normal([n_hidden_2,n_output],stddev=0.120,mean=0)) # 128 * 10\n",
        "}\n"
      ],
      "execution_count": 5,
      "outputs": []
    },
    {
      "cell_type": "code",
      "metadata": {
        "id": "RG-vQMvXLnzR",
        "colab_type": "code",
        "colab": {}
      },
      "source": [
        "#weight init for ReLU\n",
        "# If we sample weights from a normal distribution N(0,σ) we satisfy this condition with σ=√(2/(ni). \n",
        "# h1 =>  σ=√(2/(fan_in+1) = 0.062  => N(0,σ) = N(0,0.062)\n",
        "# h2 =>  σ=√(2/(fan_in+1) = 0.125  => N(0,σ) = N(0,0.125)\n",
        "# out =>  σ=√(2/(fan_in+1) = 0.120  => N(0,σ) = N(0,0.120)\n",
        "# He Normal initialization.\n",
        "\n",
        "weights_relu = {\n",
        "    'h1' : tf.Variable(tf.random_normal([n_input,n_hidden_1],stddev=0.062,mean=0)), #784x512 \n",
        "    'h2' : tf.Variable(tf.random_normal([n_hidden_1,n_hidden_2],stddev=0.125,mean=0)), #512x128 \n",
        "    'out' : tf.Variable(tf.random_normal([n_hidden_2,n_output],stddev=0.120,mean=0)) # 128 * 10\n",
        "}\n"
      ],
      "execution_count": 6,
      "outputs": []
    },
    {
      "cell_type": "code",
      "metadata": {
        "id": "QwXEcXvQLxEn",
        "colab_type": "code",
        "colab": {}
      },
      "source": [
        "# weights init for biases\n",
        "\n",
        "biases ={\n",
        "    'b1' : tf.Variable(tf.random_normal([n_hidden_1])),\n",
        "    'b2' : tf.Variable(tf.random_normal([n_hidden_2])),\n",
        "    'out' : tf.Variable(tf.random_normal([n_output]))\n",
        "}"
      ],
      "execution_count": 7,
      "outputs": []
    },
    {
      "cell_type": "code",
      "metadata": {
        "id": "WoPU2G9qMwIQ",
        "colab_type": "code",
        "colab": {}
      },
      "source": [
        "# Parameters\n",
        "training_epochs = 15\n",
        "learning_rate = 0.001\n",
        "batch_size = 100\n",
        "display_step = 1"
      ],
      "execution_count": 8,
      "outputs": []
    },
    {
      "cell_type": "markdown",
      "metadata": {
        "id": "cVya1IJZNOl6",
        "colab_type": "text"
      },
      "source": [
        "Model 1: input (784) - Dropout(RELU(BN(512))) - Droupout(RELU(BN(128))) - softmax(output 10)"
      ]
    },
    {
      "cell_type": "code",
      "metadata": {
        "id": "eCICi52vM_Oo",
        "colab_type": "code",
        "colab": {}
      },
      "source": [
        "epsilon = 1e-3\n",
        "def MLP_RELU(x,weights,baises):\n",
        "  print('x :',x.get_shape() , 'W[h1]:' , weights['h1'].get_shape() , 'W[h2]:', weights['h2'].get_shape() , 'B[h1]:', baises['b1'].get_shape())\n",
        "\n",
        "  #hidden layer 1 \n",
        "  layer_1 = tf.add(tf.matmul(x,weights['h1']),baises['b1'])\n",
        "  # batch norm for layer 1\n",
        "  # scale and shift thru moment\n",
        "  batch_mean_1, batch_var_1  = tf.nn.moments(layer_1,[0])\n",
        "  scale_1 = tf.Variable(tf.ones([n_hidden_1]))\n",
        "  beta_1 = tf.Variable(tf.zeros([n_hidden_1]))\n",
        "\n",
        "  # applying batch normalisation to layer 1\n",
        "  layer_1 = tf.nn.batch_normalization(layer_1,batch_mean_1,batch_var_1,beta_1,scale_1,epsilon)\n",
        "\n",
        "\n",
        "  # applying RELU activation layer to layer_1\n",
        "  layer_1 = tf.nn.relu(layer_1)\n",
        "\n",
        "  #adding dropout layer \n",
        "  #layer_1_drop = tf.nn.dropout(layer_1,keep_prob)\n",
        "\n",
        "\n",
        "  # hidden layer 2 \n",
        "  layer_2 = tf.add(tf.matmul(layer_1,weights['h2']),baises['b2'])\n",
        "  # batch norm for layer 2\n",
        "  # scale and shift thru moment\n",
        "  batch_mean_2,batch_var_2 = tf.nn.moments(layer_2,[0])\n",
        "  scale_2 = tf.Variable(tf.ones([n_hidden_2]))\n",
        "  beta_2 = tf.Variable(tf.zeros([n_hidden_2]))\n",
        "  \n",
        "  # Applying batch normalization to layer 2\n",
        "  layer_2 = tf.nn.batch_normalization(layer_2,batch_mean_2,batch_var_2,beta_2,scale_2,epsilon)\n",
        "\n",
        " # applying RELU activation layer to layer_2\n",
        "\n",
        "  layer_2 = tf.nn.relu(layer_2)\n",
        "\n",
        "  # adding dropout layer\n",
        "  #layer_2_drop = tf.nn.dropout(layer_2,keep_prob)\n",
        "\n",
        "\n",
        "  # output layer\n",
        "  output_layer = tf.matmul(layer_2,weights['out']) + baises['out']\n",
        "  # passing to sigmoid \n",
        "  output_layer = tf.nn.sigmoid(output_layer)\n",
        "\n",
        "  return output_layer"
      ],
      "execution_count": 9,
      "outputs": []
    },
    {
      "cell_type": "markdown",
      "metadata": {
        "id": "7ruhMq1PthzV",
        "colab_type": "text"
      },
      "source": [
        "__ Model MLP_RELU + AdamOptimizer __"
      ]
    },
    {
      "cell_type": "code",
      "metadata": {
        "id": "H9rhgT68yLZE",
        "colab_type": "code",
        "colab": {
          "base_uri": "https://localhost:8080/",
          "height": 590
        },
        "outputId": "307a3ba4-19d3-4a37-d7f5-dbd677ac1818"
      },
      "source": [
        "ydrop = MLP_RELU(x, weights_relu, biases)\n",
        "\n",
        "# https://www.tensorflow.org/api_docs/python/tf/nn/softmax_cross_entropy_with_logits\n",
        "cost_drop = tf.reduce_mean(tf.nn.softmax_cross_entropy_with_logits(logits = ydrop, labels = y_))\n",
        "# https://github.com/amitmac/Question-Answering/issues/2\n",
        "# there are many optimizers available: https://www.tensorflow.org/versions/r1.2/api_guides/python/train#Optimizers \n",
        "optimizer_drop_adam = tf.train.AdamOptimizer(learning_rate=learning_rate).minimize(cost_drop)\n",
        "optimizer_drop_sgdc = tf.train.GradientDescentOptimizer(learning_rate=learning_rate).minimize(cost_drop)\n",
        "\n",
        "with tf.Session() as sess:\n",
        "    tf.global_variables_initializer().run()\n",
        "    fig,ax = plt.subplots(1,1)\n",
        "    ax.set_xlabel('epoch') ; ax.set_ylabel('Soft Max Cross Entropy loss')\n",
        "    xs, ytrs, ytes = [], [], []\n",
        "    for epoch in range(training_epochs):\n",
        "        train_avg_cost = 0.\n",
        "        test_avg_cost = 0.\n",
        "        total_batch = int(mnist.train.num_examples/batch_size)\n",
        "        # Loop over all batches\n",
        "        for i in range(total_batch):\n",
        "            batch_xs, batch_ys = mnist.train.next_batch(batch_size)\n",
        "            \n",
        "            # here we use AdamOptimizer\n",
        "            _, c, w = sess.run([optimizer_drop_adam, cost_drop, weights_relu], feed_dict={x: batch_xs, y_: batch_ys})\n",
        "            train_avg_cost += c / total_batch\n",
        "            c = sess.run(cost_drop, feed_dict={x: mnist.test.images, y_: mnist.test.labels})\n",
        "            test_avg_cost += c / total_batch\n",
        "        xs.append(epoch)\n",
        "        ytrs.append(train_avg_cost)\n",
        "        ytes.append(test_avg_cost)\n",
        "        plt_dynamic(xs, ytrs, ytes, ax,np.arange(1, 1.8, step=0.05), \"input-ReLu(512)-Dropout-ReLu(128)-Dropout-Sigmoid(output)-AdamOptimizer\")\n",
        "\n",
        "        if epoch%display_step == 0:\n",
        "            print(\"Epoch:\", '%04d' % (epoch+1), \"train cost={:.9f}\".format(train_avg_cost), \"test cost={:.9f}\".format(test_avg_cost))\n",
        "\n",
        "    # plot final results\n",
        "    plt_dynamic(xs, ytrs, ytes, ax,np.arange(1, 1.8, step=0.05), \"input-ReLu(512)-Dropout-ReLu(128)-Dropout-Sigmoid(output)-AdamOptimizer\")\n",
        "\n",
        "    # we are calculating the final accuracy on the test data\n",
        "    correct_prediction = tf.equal(tf.argmax(ydrop,1), tf.argmax(y_,1))\n",
        "    accuracy = tf.reduce_mean(tf.cast(correct_prediction, tf.float32))\n",
        "    print(\"Accuracy:\", accuracy.eval({x: mnist.test.images, y_: mnist.test.labels, keep_prob: 1.0 }))"
      ],
      "execution_count": 10,
      "outputs": [
        {
          "output_type": "stream",
          "text": [
            "x : (?, 784) W[h1]: (784, 512) W[h2]: (512, 128) B[h1]: (512,)\n",
            "Epoch: 0001 train cost=1.568584989 test cost=1.559810386\n",
            "Epoch: 0002 train cost=1.491513426 test cost=1.491073890\n",
            "Epoch: 0003 train cost=1.481317712 test cost=1.484726188\n",
            "Epoch: 0004 train cost=1.475966292 test cost=1.482288842\n",
            "Epoch: 0005 train cost=1.473757090 test cost=1.481542939\n",
            "Epoch: 0006 train cost=1.471075133 test cost=1.480826864\n",
            "Epoch: 0007 train cost=1.469510481 test cost=1.480272453\n",
            "Epoch: 0008 train cost=1.468724131 test cost=1.479402298\n",
            "Epoch: 0009 train cost=1.467638073 test cost=1.479679334\n",
            "Epoch: 0010 train cost=1.467674784 test cost=1.479602690\n",
            "Epoch: 0011 train cost=1.466804029 test cost=1.479644905\n",
            "Epoch: 0012 train cost=1.466223426 test cost=1.479346846\n",
            "Epoch: 0013 train cost=1.465843421 test cost=1.479067300\n",
            "Epoch: 0014 train cost=1.465578313 test cost=1.478844987\n",
            "Epoch: 0015 train cost=1.465551324 test cost=1.478422948\n",
            "Accuracy: 0.9816\n"
          ],
          "name": "stdout"
        },
        {
          "output_type": "display_data",
          "data": {
            "image/png": "[encoded data removed]",
            "text/plain": [
              "<Figure size 432x288 with 1 Axes>"
            ]
          },
          "metadata": {
            "tags": [],
            "needs_background": "light"
          }
        }
      ]
    },
    {
      "cell_type": "markdown",
      "metadata": {
        "id": "7T8Lfjibrl7D",
        "colab_type": "text"
      },
      "source": [
        "Sanity check by finding the weight matrix deviation"
      ]
    },
    {
      "cell_type": "code",
      "metadata": {
        "id": "t8MZu72z0Nuo",
        "colab_type": "code",
        "colab": {
          "base_uri": "https://localhost:8080/",
          "height": 357
        },
        "outputId": "cdf7b909-33cc-41d0-b807-78718f8dba30"
      },
      "source": [
        "import seaborn as sns\n",
        "h1_w = w['h1'].flatten().reshape(-1,1)\n",
        "h2_w = w['h2'].flatten().reshape(-1,1)\n",
        "out_w = w['out'].flatten().reshape(-1,1)\n",
        "\n",
        "\n",
        "fig = plt.figure()\n",
        "plt.subplot(1, 3, 1)\n",
        "plt.title(\"Weight matrix\")\n",
        "ax = sns.violinplot(y=h1_w,color='b')\n",
        "plt.xlabel('Hidden Layer 1')\n",
        "\n",
        "plt.subplot(1, 3, 2)\n",
        "plt.title(\"Weight matrix \")\n",
        "ax = sns.violinplot(y=h2_w, color='r')\n",
        "plt.xlabel('Hidden Layer 2 ')\n",
        "\n",
        "plt.subplot(1, 3, 3)\n",
        "plt.title(\"Weight matrix \")\n",
        "ax = sns.violinplot(y=out_w,color='y')\n",
        "plt.xlabel('Output Layer ')"
      ],
      "execution_count": 12,
      "outputs": [
        {
          "output_type": "stream",
          "text": [
            "/usr/local/lib/python3.6/dist-packages/statsmodels/tools/_testing.py:19: FutureWarning: pandas.util.testing is deprecated. Use the functions in the public API at pandas.testing instead.\n",
            "  import pandas.util.testing as tm\n"
          ],
          "name": "stderr"
        },
        {
          "output_type": "execute_result",
          "data": {
            "text/plain": [
              "Text(0.5, 0, 'Output Layer ')"
            ]
          },
          "metadata": {
            "tags": []
          },
          "execution_count": 12
        },
        {
          "output_type": "display_data",
          "data": {
            "image/png": "[encoded data removed]",
            "text/plain": [
              "<Figure size 432x288 with 3 Axes>"
            ]
          },
          "metadata": {
            "tags": [],
            "needs_background": "light"
          }
        }
      ]
    },
    {
      "cell_type": "code",
      "metadata": {
        "id": "ytuxmrqlrUZ8",
        "colab_type": "code",
        "colab": {}
      },
      "source": [
        ""
      ],
      "execution_count": null,
      "outputs": []
    }
  ]
}